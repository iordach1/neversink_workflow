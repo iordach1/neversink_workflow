{
 "cells": [
  {
   "cell_type": "code",
   "execution_count": null,
   "metadata": {},
   "outputs": [],
   "source": [
    "%matplotlib inline\n",
    "\n",
    "import sys\n",
    "sys.path.append('../python_packages_static')\n",
    "import geopandas as gp\n",
    "import flopy as fp\n",
    "import mfsetup\n",
    "import os\n",
    "import numpy as np\n",
    "import matplotlib.pyplot as plt\n",
    "import yaml\n",
    "import pyproj"
   ]
  },
  {
   "cell_type": "markdown",
   "metadata": {},
   "source": [
    "## Using [modflow-setup](https://github.com/aleaf/modflow-setup/tree/develop/mfsetup) it is possible to build only the discretization package to evaluate grid options."
   ]
  },
  {
   "cell_type": "markdown",
   "metadata": {},
   "source": [
    "#### get base dir - need this because MODFLOW setup leaves us in the model directory"
   ]
  },
  {
   "cell_type": "code",
   "execution_count": null,
   "metadata": {},
   "outputs": [],
   "source": [
    "basedir = os.getcwd()\n",
    "basedir"
   ]
  },
  {
   "cell_type": "markdown",
   "metadata": {},
   "source": [
    "## first get bounding box for the model domain"
   ]
  },
  {
   "cell_type": "code",
   "execution_count": null,
   "metadata": {},
   "outputs": [],
   "source": [
    "#domain = gp.read_file('../source_data/shapefiles/Extents/Model_Extent_HUC12.shp')\n",
    "\n",
    "domain = gp.read_file('../source_data/shapefiles/rockRiver/rockRiver.shp')\n",
    "\n",
    "modelName = 'rockRiver'\n",
    "\n",
    "print(domain.columns)"
   ]
  },
  {
   "cell_type": "markdown",
   "metadata": {},
   "source": [
    "### get the CRS - we'll need this later on"
   ]
  },
  {
   "cell_type": "code",
   "execution_count": null,
   "metadata": {},
   "outputs": [],
   "source": [
    "#epsg = pyproj.CRS(domain2.crs).to_epsg()\n",
    "print(domain.crs.axis_info[0].unit_name)\n",
    "\n",
    "#modflow output indicates meters... but shapefile still shows feet... something is screwy\n",
    "\n",
    "#testing for eventual spyder porting\n",
    "plt.plot(*domain.geometry[0].exterior.xy)\n",
    "plt.show() #this is fine\n",
    "\n",
    "bounds = domain.geometry[0].bounds\n",
    "\n",
    "tot_xdist, tot_ydist = bounds[2]+1000-bounds[0], bounds[3]+1000-bounds[1]\n",
    "print (tot_xdist,tot_ydist)"
   ]
  },
  {
   "cell_type": "markdown",
   "metadata": {},
   "source": [
    "### set grid spacing and set up grid"
   ]
  },
  {
   "cell_type": "code",
   "execution_count": null,
   "metadata": {},
   "outputs": [],
   "source": [
    "dx = 2500 #feet\n",
    "dy = dx\n",
    "\n",
    "xcells = int(np.ceil(tot_xdist/dx))\n",
    "ycells = int(np.ceil(tot_ydist/dy))\n",
    "\n",
    "print(xcells,ycells, xcells*ycells)"
   ]
  },
  {
   "cell_type": "markdown",
   "metadata": {},
   "source": [
    "## Read in the file `example.yml` and modify"
   ]
  },
  {
   "cell_type": "code",
   "execution_count": null,
   "metadata": {},
   "outputs": [],
   "source": [
    "with open('example_rockRiver.yml', 'r') as ifp:\n",
    "    inyml = yaml.load(ifp, Loader=yaml.FullLoader)\n",
    "    \n",
    "inyml['simulation']['sim_ws'] = 'tmp/{0}'.format(modelName)\n",
    "inyml['model']['simulation'] = modelName\n",
    "inyml['model']['modelname'] = modelName\n",
    "   \n",
    "inyml['setup_grid']['xoff'] = bounds[0]\n",
    "inyml['setup_grid']['yoff'] = bounds[1]\n",
    "\n",
    "inyml['dis']['griddata']['delr'] = dy\n",
    "inyml['dis']['griddata']['delc'] = dx\n",
    "\n",
    "inyml['dis']['dimensions']['nlay'] = 10\n",
    "inyml['dis']['dimensions']['nrow'] = ycells\n",
    "inyml['dis']['dimensions']['ncol'] = xcells\n",
    "\n",
    "with open('rockRiver.yml', 'w') as ofp:\n",
    "    yaml.dump(inyml, ofp)"
   ]
  },
  {
   "cell_type": "markdown",
   "metadata": {},
   "source": [
    "### now try to make just the DIS package"
   ]
  },
  {
   "cell_type": "code",
   "execution_count": null,
   "metadata": {},
   "outputs": [],
   "source": [
    "m = mfsetup.MF6model.setup_from_yaml('rockRiver.yml') #modified discretization.py to autopopulate active cells in new layers"
   ]
  },
  {
   "cell_type": "code",
   "execution_count": null,
   "metadata": {},
   "outputs": [],
   "source": [
    "arr = np.concatenate([m.dis.idomain.array[0] for x in range(10)])\n",
    "arr = np.reshape(arr, (10,263,270))\n",
    "\n",
    "m.dis.idomain = arr\n",
    "\n",
    "m.write()\n",
    "\n",
    "#type(m)\n"
   ]
  },
  {
   "cell_type": "markdown",
   "metadata": {},
   "source": [
    "### We can export the grid information as a shapefile to evaluate\n",
    "NOTE: Errors indicating \"No internet connection or epsg code ...\" can be safely disregarded as warnings. They are due to restrictive network security preventing access to spatialreference.org but do not impact behavior of these notebooks."
   ]
  },
  {
   "cell_type": "code",
   "execution_count": null,
   "metadata": {},
   "outputs": [],
   "source": [
    "m.dis.export('rockRiver{}f.dis.shp'.format(dx))"
   ]
  },
  {
   "cell_type": "code",
   "execution_count": null,
   "metadata": {},
   "outputs": [],
   "source": [
    "os.chdir(basedir)\n"
   ]
  }
 ],
 "metadata": {
  "kernelspec": {
   "display_name": "Python 3 (ipykernel)",
   "language": "python",
   "name": "python3"
  },
  "language_info": {
   "codemirror_mode": {
    "name": "ipython",
    "version": 3
   },
   "file_extension": ".py",
   "mimetype": "text/x-python",
   "name": "python",
   "nbconvert_exporter": "python",
   "pygments_lexer": "ipython3",
   "version": "3.9.15"
  }
 },
 "nbformat": 4,
 "nbformat_minor": 4
}
