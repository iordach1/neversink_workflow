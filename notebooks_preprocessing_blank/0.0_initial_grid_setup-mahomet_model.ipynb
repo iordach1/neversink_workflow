{
 "cells": [
  {
   "cell_type": "code",
   "execution_count": 1,
   "metadata": {},
   "outputs": [],
   "source": [
    "%matplotlib inline\n",
    "\n",
    "import sys\n",
    "sys.path.append('../python_packages_static')\n",
    "import geopandas as gp\n",
    "import flopy as fp\n",
    "import mfsetup\n",
    "import os\n",
    "import numpy as np\n",
    "import matplotlib.pyplot as plt\n",
    "import yaml\n",
    "import pyproj"
   ]
  },
  {
   "cell_type": "markdown",
   "metadata": {},
   "source": [
    "## Using [modflow-setup](https://github.com/aleaf/modflow-setup/tree/develop/mfsetup) it is possible to build only the discretization package to evaluate grid options."
   ]
  },
  {
   "cell_type": "markdown",
   "metadata": {},
   "source": [
    "#### get base dir - need this because MODFLOW setup leaves us in the model directory"
   ]
  },
  {
   "cell_type": "code",
   "execution_count": 2,
   "metadata": {},
   "outputs": [
    {
     "data": {
      "text/plain": [
       "'C:\\\\Users\\\\dbabrams\\\\Documents\\\\ISWS\\\\GitHub\\\\neversink_workflow\\\\notebooks_preprocessing_blank'"
      ]
     },
     "execution_count": 2,
     "metadata": {},
     "output_type": "execute_result"
    }
   ],
   "source": [
    "basedir = os.getcwd()\n",
    "basedir"
   ]
  },
  {
   "cell_type": "markdown",
   "metadata": {},
   "source": [
    "## first get bounding box for the model domain"
   ]
  },
  {
   "cell_type": "code",
   "execution_count": 3,
   "metadata": {},
   "outputs": [],
   "source": [
    "#domain = gp.read_file('../source_data/shapefiles/Extents/Model_Extent_HUC12.shp')\n",
    "\n",
    "domain = gp.read_file('../source_data/shapefiles/Mahomet_model_shapefiles/mahomet.shp')"
   ]
  },
  {
   "cell_type": "markdown",
   "metadata": {},
   "source": [
    "### get the CRS - we'll need this later on"
   ]
  },
  {
   "cell_type": "code",
   "execution_count": 4,
   "metadata": {},
   "outputs": [
    {
     "name": "stdout",
     "output_type": "stream",
     "text": [
      "US survey foot\n"
     ]
    },
    {
     "data": {
      "image/png": "[encoded data removed]",
      "text/plain": [
       "<Figure size 640x480 with 1 Axes>"
      ]
     },
     "metadata": {},
     "output_type": "display_data"
    },
    {
     "name": "stdout",
     "output_type": "stream",
     "text": [
      "796959.9999403358 364000.0000484139\n"
     ]
    }
   ],
   "source": [
    "#epsg = pyproj.CRS(domain2.crs).to_epsg()\n",
    "print(domain.crs.axis_info[0].unit_name)\n",
    "\n",
    "#modflow output indicates meters... but shapefile still shows feet... something is screwy\n",
    "\n",
    "#testing for eventual spyder porting\n",
    "plt.plot(*domain.geometry[0].exterior.xy)\n",
    "plt.show() #this is fine\n",
    "\n",
    "bounds = domain.geometry[0].bounds\n",
    "\n",
    "tot_xdist, tot_ydist = bounds[2]+1000-bounds[0], bounds[3]+1000-bounds[1]\n",
    "print (tot_xdist,tot_ydist)"
   ]
  },
  {
   "cell_type": "markdown",
   "metadata": {},
   "source": [
    "### set grid spacing and set up grid"
   ]
  },
  {
   "cell_type": "code",
   "execution_count": 5,
   "metadata": {},
   "outputs": [
    {
     "name": "stdout",
     "output_type": "stream",
     "text": [
      "604 276 166704\n"
     ]
    }
   ],
   "source": [
    "dx = 1320 #feet\n",
    "dy = dx\n",
    "\n",
    "xcells = int(np.ceil(tot_xdist/dx))\n",
    "ycells = int(np.ceil(tot_ydist/dy))\n",
    "\n",
    "print(xcells,ycells, xcells*ycells)"
   ]
  },
  {
   "cell_type": "markdown",
   "metadata": {},
   "source": [
    "## Read in the file `example.yml`"
   ]
  },
  {
   "cell_type": "code",
   "execution_count": 6,
   "metadata": {},
   "outputs": [],
   "source": [
    "#mf6_default.yml crs needs to be modified. See below\n",
    "\n",
    "#crs: 'PROJCS[\"Clarke_1866_Lambert_Conformal_Conic\",GEOGCS[\"NAD27\",DATUM[\"North_American_Datum_1927\",SPHEROID[\"Clarke 1866\",6378206.4,294.9786982,AUTHORITY[\"EPSG\",\"7008\"]],AUTHORITY[\"EPSG\",\"6267\"]],PRIMEM[\"Greenwich\",0],UNIT[\"Degree\",0.0174532925199433]],PROJECTION[\"Lambert_Conformal_Conic_2SP\"],PARAMETER[\"latitude_of_origin\",33],PARAMETER[\"central_meridian\",-89.5],PARAMETER[\"standard_parallel_1\",33],PARAMETER[\"standard_parallel_2\",45],PARAMETER[\"false_easting\",2999994],PARAMETER[\"false_northing\",0],UNIT[\"foot\",0.304800609601219,AUTHORITY[\"EPSG\",\"9003\"]],AXIS[\"Easting\",EAST],AXIS[\"Northing\",NORTH]]'\n",
    "\n",
    "with open('example_mahomet.yml', 'r') as ifp:\n",
    "    inyml = yaml.load(ifp, Loader=yaml.FullLoader)\n",
    "   \n",
    "inyml['setup_grid']['xoff'] = bounds[0]\n",
    "inyml['setup_grid']['yoff'] = bounds[1]\n",
    "\n",
    "inyml['dis']['griddata']['delr'] = dy\n",
    "inyml['dis']['griddata']['delc'] = dx\n",
    "\n",
    "inyml['dis']['dimensions']['nlay'] = 1\n",
    "inyml['dis']['dimensions']['nrow'] = ycells\n",
    "inyml['dis']['dimensions']['ncol'] = xcells\n",
    "\n",
    "with open('mahomet.yml', 'w') as ofp:\n",
    "    yaml.dump(inyml, ofp)"
   ]
  },
  {
   "cell_type": "markdown",
   "metadata": {},
   "source": [
    "### now try to make just the DIS package"
   ]
  },
  {
   "cell_type": "code",
   "execution_count": 7,
   "metadata": {},
   "outputs": [
    {
     "name": "stdout",
     "output_type": "stream",
     "text": [
      "loading configuration file mahomet.yml...\n",
      "\n",
      "Setting up mahomet model from data in None\n",
      "\n",
      "\n",
      "validating configuration...\n",
      "DIS package\n",
      "done with validation.\n",
      "\n",
      "setting up model grid...\n",
      "wrote C:\\Users\\dbabrams\\Documents\\ISWS\\GitHub\\neversink_workflow\\notebooks_preprocessing_blank\\tmp\\mahomet\\mahomet_grid.json\n",
      "writing C:\\Users\\dbabrams\\Documents\\ISWS\\GitHub\\neversink_workflow\\notebooks_preprocessing_blank\\tmp\\mahomet\\postproc\\shps\\mahomet_bbox.shp... Done\n",
      "finished in 0.77s\n",
      "\n",
      "\n",
      "Setting up TDIS package...\n",
      "finished in 0.01s\n",
      "\n",
      "\n",
      "Setting up IMS package...\n",
      "finished in 0.00s\n",
      "\n",
      "\n",
      "Setting up DIS package...\n",
      "wrote .\\external\\top.dat, took 0.05s\n",
      "loading original\\mahomet_top.dat.original, shape=(276, 604), took 0.08s\n",
      "computing cell thicknesses...\n",
      "finished in 3.22s\n",
      "\n",
      "wrote .\\external\\top.dat, took 0.04s\n",
      "wrote .\\external\\botm_000.dat, took 0.03s\n",
      "wrote .\\external\\top.dat, took 0.04s\n",
      "\n",
      "reading C:\\Users\\dbabrams\\Documents\\ISWS\\GitHub\\neversink_workflow\\source_data\\shapefiles\\Mahomet_model_shapefiles\\mahomet.shp...\n",
      "--> building dataframe... (may take a while for large shapefiles)\n",
      "wrote .\\external\\idomain_000.dat, took 0.04s\n",
      "(re)setting the idomain array...\n",
      "computing cell thicknesses...\n",
      "finished in 3.20s\n",
      "\n",
      "wrote original\\lakarr_000.dat, took 0.03s\n",
      "loading original\\mahomet_top.dat.original, shape=(276, 604), took 0.08s\n",
      "computing cell thicknesses...\n",
      "finished in 3.12s\n",
      "\n",
      "wrote .\\external\\top.dat, took 0.04s\n",
      "wrote .\\external\\botm_000.dat, took 0.03s\n",
      "wrote .\\external\\top.dat, took 0.04s\n",
      "wrote .\\external\\idomain_000.dat, took 0.03s\n",
      "setting up model grid...\n",
      "wrote C:\\Users\\dbabrams\\Documents\\ISWS\\GitHub\\neversink_workflow\\notebooks_preprocessing_blank\\tmp\\mahomet\\mahomet_grid.json\n",
      "writing C:\\Users\\dbabrams\\Documents\\ISWS\\GitHub\\neversink_workflow\\notebooks_preprocessing_blank\\tmp\\mahomet\\postproc\\shps\\mahomet_bbox.shp... Done\n",
      "finished in 0.75s\n",
      "\n",
      "wrote .\\external\\irch.dat, took 0.03s\n",
      "finished in 12.21s\n",
      "\n",
      "finished setting up model in 13.14s\n",
      "C:\\Users\\dbabrams\\Documents\\ISWS\\GitHub\\neversink_workflow\\notebooks_preprocessing_blank\\tmp\\mahomet\n",
      "\n",
      "mahomet model version 0.post108.dev0+gca271ee\n",
      "1 layer(s), 276 row(s), 604 column(s)\n",
      "delr: [1320.00...1320.00] meters\n",
      "delc: [1320.00...1320.00] meters\n",
      "CRS: PROJCS[\"Clarke_1866_Lambert_Conformal_Conic\",GEOGCS[\"NAD27\",DATUM[\"North_American_Datum_1927\",SPHEROID[\"Clarke 1866\",6378206.4,294.9786982,AUTHORITY[\"EPSG\",\"7008\"]],AUTHORITY[\"EPSG\",\"6267\"]],PRIMEM[\"Greenwich\",0],UNIT[\"Degree\",0.0174532925199433]],PROJECTION[\"Lambert_Conformal_Conic_2SP\"],PARAMETER[\"latitude_of_origin\",33],PARAMETER[\"central_meridian\",-89.5],PARAMETER[\"standard_parallel_1\",33],PARAMETER[\"standard_parallel_2\",45],PARAMETER[\"false_easting\",2999994],PARAMETER[\"false_northing\",0],UNIT[\"foot\",0.304800609601219,AUTHORITY[\"EPSG\",\"9003\"]],AXIS[\"Easting\",EAST],AXIS[\"Northing\",NORTH]]\n",
      "length units: feet\n",
      "xll: 2751119.9999289215; yll: 2494079.999951929; rotation: 0.0\n",
      "Bounds: (2751119.9999289215, 3548399.9999289215, 2494079.999951929, 2858399.999951929)\n",
      "Packages: dis\n",
      "1 period(s):\n",
      " per start_datetime end_datetime  perlen  steady  nstp\n",
      "   0     2015-01-01   2015-01-02     1.0    True     1\n",
      "   ...\n",
      "   0     2015-01-01   2015-01-02     1.0    True     1\n"
     ]
    }
   ],
   "source": [
    "m = mfsetup.MF6model.setup_from_yaml('mahomet.yml')"
   ]
  },
  {
   "cell_type": "code",
   "execution_count": 8,
   "metadata": {},
   "outputs": [
    {
     "data": {
      "text/plain": [
       "829125"
      ]
     },
     "execution_count": 8,
     "metadata": {},
     "output_type": "execute_result"
    }
   ],
   "source": [
    "m.dis.idomain.array.sum() * 5"
   ]
  },
  {
   "cell_type": "markdown",
   "metadata": {},
   "source": [
    "### We can export the grid information as a shapefile to evaluate\n",
    "NOTE: Errors indicating \"No internet connection or epsg code ...\" can be safely disregarded as warnings. They are due to restrictive network security preventing access to spatialreference.org but do not impact behavior of these notebooks."
   ]
  },
  {
   "cell_type": "code",
   "execution_count": 9,
   "metadata": {},
   "outputs": [
    {
     "name": "stdout",
     "output_type": "stream",
     "text": [
      "wrote mahomet1320f.dis.shp\n"
     ]
    }
   ],
   "source": [
    "m.dis.export('mahomet{}f.dis.shp'.format(dx))"
   ]
  },
  {
   "cell_type": "code",
   "execution_count": 10,
   "metadata": {},
   "outputs": [],
   "source": [
    "os.chdir(basedir)\n"
   ]
  }
 ],
 "metadata": {
  "kernelspec": {
   "display_name": "Python 3 (ipykernel)",
   "language": "python",
   "name": "python3"
  },
  "language_info": {
   "codemirror_mode": {
    "name": "ipython",
    "version": 3
   },
   "file_extension": ".py",
   "mimetype": "text/x-python",
   "name": "python",
   "nbconvert_exporter": "python",
   "pygments_lexer": "ipython3",
   "version": "3.9.15"
  }
 },
 "nbformat": 4,
 "nbformat_minor": 4
}
